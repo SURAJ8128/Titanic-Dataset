{
  "nbformat": 4,
  "nbformat_minor": 0,
  "metadata": {
    "colab": {
      "private_outputs": true,
      "provenance": []
    },
    "kernelspec": {
      "name": "python3",
      "display_name": "Python 3"
    },
    "language_info": {
      "name": "python"
    }
  },
  "cells": [
    {
      "cell_type": "code",
      "source": [
        "import pandas as pd\n",
        "df_train=pd.read_csv(\"/content/train (1).csv\")\n",
        "df_test=pd.read_csv(\"/content/test (1).csv\")"
      ],
      "metadata": {
        "id": "PpHKQI2vZZg3"
      },
      "execution_count": null,
      "outputs": []
    },
    {
      "cell_type": "code",
      "source": [
        "df_train"
      ],
      "metadata": {
        "id": "p6rgRJrpgoo2"
      },
      "execution_count": null,
      "outputs": []
    },
    {
      "cell_type": "code",
      "source": [
        "df_train"
      ],
      "metadata": {
        "id": "U4_kGT0Mgo02"
      },
      "execution_count": null,
      "outputs": []
    },
    {
      "cell_type": "code",
      "source": [
        "\n",
        "df_train.head()"
      ],
      "metadata": {
        "id": "TFJFFOX_go-P"
      },
      "execution_count": null,
      "outputs": []
    },
    {
      "cell_type": "code",
      "source": [
        "df_test.head()"
      ],
      "metadata": {
        "id": "ldjD-N76gpIJ"
      },
      "execution_count": null,
      "outputs": []
    },
    {
      "cell_type": "code",
      "source": [
        "df_train.describe()"
      ],
      "metadata": {
        "id": "XApO-QnSgpxE"
      },
      "execution_count": null,
      "outputs": []
    },
    {
      "cell_type": "code",
      "source": [
        "df_train.shape"
      ],
      "metadata": {
        "id": "zD9MfGjMZZps"
      },
      "execution_count": null,
      "outputs": []
    },
    {
      "cell_type": "code",
      "source": [
        "\n",
        "df_train.duplicated().sum()"
      ],
      "metadata": {
        "id": "31k-0LldY80K"
      },
      "execution_count": null,
      "outputs": []
    },
    {
      "cell_type": "code",
      "source": [
        "df_test.duplicated().sum()"
      ],
      "metadata": {
        "id": "64OAW-XQxZZx"
      },
      "execution_count": null,
      "outputs": []
    },
    {
      "cell_type": "code",
      "source": [
        "df_train.isnull().sum()"
      ],
      "metadata": {
        "id": "zZ6G-HOjxZeK"
      },
      "execution_count": null,
      "outputs": []
    },
    {
      "cell_type": "code",
      "source": [
        "df_test.isnull().sum()"
      ],
      "metadata": {
        "id": "aAoO1c-DxZgx"
      },
      "execution_count": null,
      "outputs": []
    },
    {
      "cell_type": "code",
      "source": [
        "df_train.drop(\"Cabin\",axis=1,inplace=True)"
      ],
      "metadata": {
        "id": "u6Srq-lExZjl"
      },
      "execution_count": null,
      "outputs": []
    },
    {
      "cell_type": "code",
      "source": [
        "df_test.drop(\"Cabin\",axis=1,inplace=True)"
      ],
      "metadata": {
        "id": "9vZeSUjpxZok"
      },
      "execution_count": null,
      "outputs": []
    },
    {
      "cell_type": "code",
      "source": [
        "df_train.isnull().sum()"
      ],
      "metadata": {
        "id": "pN5KEVCVxZ11"
      },
      "execution_count": null,
      "outputs": []
    },
    {
      "cell_type": "code",
      "source": [
        "df_test.isnull().sum()"
      ],
      "metadata": {
        "id": "q26H8o_4Y86F"
      },
      "execution_count": null,
      "outputs": []
    },
    {
      "cell_type": "code",
      "source": [
        "import numpy as np\n",
        "df_train['Age'].replace(np.nan,df_train['Age'].mean(),inplace=True)"
      ],
      "metadata": {
        "id": "PSyem4Y-Y9D2"
      },
      "execution_count": null,
      "outputs": []
    },
    {
      "cell_type": "code",
      "source": [
        "df_test['Age'].replace(np.nan,df_test['Age'].mean(),inplace=True)"
      ],
      "metadata": {
        "id": "8856l8iZY9Nn"
      },
      "execution_count": null,
      "outputs": []
    },
    {
      "cell_type": "code",
      "source": [
        "df_train.head(20)"
      ],
      "metadata": {
        "id": "T_dLvUPYY9Wo"
      },
      "execution_count": null,
      "outputs": []
    },
    {
      "cell_type": "code",
      "source": [
        "df_test.head(20)"
      ],
      "metadata": {
        "id": "cqhW3ws91AjV"
      },
      "execution_count": null,
      "outputs": []
    },
    {
      "cell_type": "code",
      "source": [
        "df_train.isnull().sum()"
      ],
      "metadata": {
        "id": "bbliZ0p61Am4"
      },
      "execution_count": null,
      "outputs": []
    },
    {
      "cell_type": "code",
      "source": [
        "df_test.isnull().sum()"
      ],
      "metadata": {
        "id": "hHBZuzIQ1Aw6"
      },
      "execution_count": null,
      "outputs": []
    },
    {
      "cell_type": "code",
      "source": [
        "df_train['Embarked'].replace(np.nan,df_train['Embarked'].mode()[0],inplace=True)"
      ],
      "metadata": {
        "id": "vh2ZBghp1A77"
      },
      "execution_count": null,
      "outputs": []
    },
    {
      "cell_type": "code",
      "source": [
        "df_train.isnull().sum()"
      ],
      "metadata": {
        "id": "vJvHyN4S1c1w"
      },
      "execution_count": null,
      "outputs": []
    },
    {
      "cell_type": "code",
      "source": [
        "df_train['Fare'].replace(np.nan,df_test['Fare'].mean(),inplace=True)"
      ],
      "metadata": {
        "id": "V9z6yLmv1c33"
      },
      "execution_count": null,
      "outputs": []
    },
    {
      "cell_type": "code",
      "source": [
        "df_train.isnull().sum()"
      ],
      "metadata": {
        "id": "z6PsHBmg1c6B"
      },
      "execution_count": null,
      "outputs": []
    },
    {
      "cell_type": "code",
      "source": [
        "df_test.head()"
      ],
      "metadata": {
        "id": "ZrEsk3_w1c8I"
      },
      "execution_count": null,
      "outputs": []
    },
    {
      "cell_type": "code",
      "source": [
        "df_train.head()"
      ],
      "metadata": {
        "id": "OAabwAtp1c_a"
      },
      "execution_count": null,
      "outputs": []
    },
    {
      "source": [
        "import matplotlib.pyplot as plt\n",
        "import seaborn as sns\n",
        "plt.figure(dpi=120)\n",
        "sns.countplot(x='Survived',data=df_train) # Changed 'X' to 'x'"
      ],
      "cell_type": "code",
      "metadata": {
        "id": "gqp7l2-KN7Ei"
      },
      "execution_count": null,
      "outputs": []
    },
    {
      "cell_type": "code",
      "source": [
        "plt.figure(dpi=120)\n",
        "sns.countplot(x='Survived',hue=\"Sex\",data=df_train)"
      ],
      "metadata": {
        "id": "jxsn95rM1dE6"
      },
      "execution_count": null,
      "outputs": []
    },
    {
      "cell_type": "code",
      "source": [
        "Mensurvivel= df_train[df_train['Sex'] == 'male'],['Survived']"
      ],
      "metadata": {
        "id": "zZw1pBaay_6X"
      },
      "execution_count": null,
      "outputs": []
    },
    {
      "cell_type": "code",
      "source": [
        "df_train.info()"
      ],
      "metadata": {
        "id": "r4c7S9aZzAGf"
      },
      "execution_count": null,
      "outputs": []
    },
    {
      "cell_type": "code",
      "source": [
        "df_test.info()"
      ],
      "metadata": {
        "id": "RuQaM5QIzAJX"
      },
      "execution_count": null,
      "outputs": []
    },
    {
      "cell_type": "code",
      "source": [
        "df_train[\"Sex\"]=df_train[\"Sex\"].map({'female':1,'male':0}).astype(int)"
      ],
      "metadata": {
        "id": "9W0BoNF6zAMD"
      },
      "execution_count": null,
      "outputs": []
    },
    {
      "cell_type": "code",
      "source": [
        "df_train.head()"
      ],
      "metadata": {
        "id": "qe56ZaoXzAUk"
      },
      "execution_count": null,
      "outputs": []
    },
    {
      "cell_type": "code",
      "source": [
        "df_test[\"Sex\"]=df_test[\"Sex\"].map({'female':1,'male':0}).astype(int)"
      ],
      "metadata": {
        "id": "uW6dFVxE75Zd"
      },
      "execution_count": null,
      "outputs": []
    },
    {
      "cell_type": "code",
      "source": [
        "df_test.head()"
      ],
      "metadata": {
        "id": "aTWc5nry75jW"
      },
      "execution_count": null,
      "outputs": []
    },
    {
      "cell_type": "code",
      "source": [
        "df_train[\"Embarked\"].map({'S':0,'C':1,'Q':2}).astype(int)"
      ],
      "metadata": {
        "id": "3OX1U1KP75sy"
      },
      "execution_count": null,
      "outputs": []
    },
    {
      "cell_type": "code",
      "source": [
        "df_test[\"Embarked\"]=df_test[\"Embarked\"].map({'S':0,'C':1,'Q':2}).astype(int)"
      ],
      "metadata": {
        "id": "2px2G5Qj76GU"
      },
      "execution_count": null,
      "outputs": []
    },
    {
      "cell_type": "code",
      "source": [
        "df_train.head()"
      ],
      "metadata": {
        "id": "2zKhHduj76Oz"
      },
      "execution_count": null,
      "outputs": []
    },
    {
      "cell_type": "code",
      "source": [
        "df_train[\"Embarked\"]=df_train[\"Embarked\"].map({'S':0,'C':1,'Q':2}).astype(int)"
      ],
      "metadata": {
        "id": "gADWMlWG76a3"
      },
      "execution_count": null,
      "outputs": []
    },
    {
      "cell_type": "code",
      "source": [
        "df_train.head()"
      ],
      "metadata": {
        "id": "pzJpT5cRHrTk"
      },
      "execution_count": null,
      "outputs": []
    },
    {
      "cell_type": "code",
      "source": [
        "df_test.columns"
      ],
      "metadata": {
        "id": "m2SM6e4cYntd"
      },
      "execution_count": null,
      "outputs": []
    },
    {
      "cell_type": "code",
      "source": [
        "df_train.columns"
      ],
      "metadata": {
        "id": "TxMQltIyJaiU"
      },
      "execution_count": null,
      "outputs": []
    },
    {
      "cell_type": "code",
      "source": [
        "df_train.drop(['Name','Ticket'],axis=1,inplace=True)\n",
        "df_test.drop(['Name','Ticket'],axis=1,inplace=True)"
      ],
      "metadata": {
        "id": "uC74rtVlHrjC"
      },
      "execution_count": null,
      "outputs": []
    },
    {
      "cell_type": "code",
      "source": [
        "df_train.columns"
      ],
      "metadata": {
        "id": "F0w_t0QTHrlw"
      },
      "execution_count": null,
      "outputs": []
    },
    {
      "cell_type": "code",
      "source": [
        "\n",
        "df_train.columns"
      ],
      "metadata": {
        "id": "TMeJrvyzHrpw"
      },
      "execution_count": null,
      "outputs": []
    },
    {
      "cell_type": "code",
      "source": [
        "df_train.head()"
      ],
      "metadata": {
        "id": "55S5F4u-Hrsh"
      },
      "execution_count": null,
      "outputs": []
    },
    {
      "cell_type": "code",
      "source": [
        "dataset = [df_train, df_test]\n",
        "for data in dataset:\n",
        "  data.loc[data[\"Age\"]<=20, 'Age'] = 0\n",
        "  data.loc[(data[\"Age\"]>20) & (data[\"Age\"]<=40), 'Age'] = 1\n",
        "  data.loc[(data[\"Age\"]>40) & (data[\"Age\"]<=60), 'Age'] = 2\n",
        "  data.loc[data[\"Age\"]>60, 'Age'] = 3"
      ],
      "metadata": {
        "id": "KuCXvt_xZ98n"
      },
      "execution_count": null,
      "outputs": []
    },
    {
      "cell_type": "code",
      "source": [],
      "metadata": {
        "id": "26xB_yoMV-7F"
      },
      "execution_count": null,
      "outputs": []
    },
    {
      "cell_type": "code",
      "source": [
        "for data in dataset:\n",
        "  data.loc[data[\"Fare\"] <=8, 'Fare'] = 0\n",
        "  data.loc[(data[\"Fare\"]>8) & (data[\"Fare\"] <=15), \"Fare\"] = 1\n",
        "  data.loc[(data[\"Fare\"]>15) & (data[\"Fare\"] <=31), \"Fare\"] = 2\n",
        "  data.loc[data[\"Fare\"] >31, 'Fare'] = 3"
      ],
      "metadata": {
        "id": "cNKUQNdeZ9-8"
      },
      "execution_count": null,
      "outputs": []
    },
    {
      "cell_type": "code",
      "source": [
        "df_train.Fare.describe()"
      ],
      "metadata": {
        "id": "p2mgsjPFLsDj"
      },
      "execution_count": null,
      "outputs": []
    },
    {
      "cell_type": "code",
      "source": [
        "df_train.Age.describe()"
      ],
      "metadata": {
        "id": "qC6-bu0JV_Fg"
      },
      "execution_count": null,
      "outputs": []
    },
    {
      "cell_type": "code",
      "source": [
        "df_test.Age.describe()"
      ],
      "metadata": {
        "id": "NTAuI81tV_Pr"
      },
      "execution_count": null,
      "outputs": []
    },
    {
      "cell_type": "code",
      "source": [
        "for data in dataset:# float value remove\n",
        "  data[\"Age\"] = data[\"Age\"].astype(int)\n",
        "data[\"Fare\"] = data[\"Fare\"].astype(int)"
      ],
      "metadata": {
        "id": "BUJFBOlrV_Zb"
      },
      "execution_count": null,
      "outputs": []
    },
    {
      "cell_type": "code",
      "source": [
        "df_test.head()"
      ],
      "metadata": {
        "id": "s5t34b0LV_jq"
      },
      "execution_count": null,
      "outputs": []
    },
    {
      "source": [
        "!pip install pandas\n",
        "import pandas as pd\n",
        "import numpy as np\n",
        "\n",
        "dataset = [df_train, df_test]  # Assuming df_train and df_test are your DataFrames\n",
        "\n",
        "for data in dataset:\n",
        "    # Replace NaN values with a suitable value, like the mean or median\n",
        "    data[\"Fare\"].fillna(data[\"Fare\"].mean(), inplace=True)\n",
        "    # Now convert to integer, ensuring no NaN values remain\n",
        "    data[\"Age\"] = data[\"Age\"].astype(int)\n",
        "    data[\"Fare\"] = data[\"Fare\"].astype(int)"
      ],
      "cell_type": "code",
      "metadata": {
        "id": "qjEIHqU7OVyL"
      },
      "execution_count": null,
      "outputs": []
    },
    {
      "cell_type": "code",
      "source": [
        "df_train.head()"
      ],
      "metadata": {
        "id": "s5chHaXAV_u9"
      },
      "execution_count": null,
      "outputs": []
    },
    {
      "cell_type": "code",
      "source": [
        "x_train=df_train.drop(['Survived','PassengerId'],axis=1).values"
      ],
      "metadata": {
        "id": "vjWy_rPFV_7V"
      },
      "execution_count": null,
      "outputs": []
    },
    {
      "cell_type": "code",
      "source": [
        "x_train"
      ],
      "metadata": {
        "id": "7NTpU0oyOqpK"
      },
      "execution_count": null,
      "outputs": []
    },
    {
      "cell_type": "code",
      "source": [
        "y_train=df_train['Survived'].values"
      ],
      "metadata": {
        "id": "yUk9WdikOqyx"
      },
      "execution_count": null,
      "outputs": []
    },
    {
      "cell_type": "code",
      "source": [
        "y_train"
      ],
      "metadata": {
        "id": "EepSN8noOq4B"
      },
      "execution_count": null,
      "outputs": []
    },
    {
      "cell_type": "code",
      "source": [
        "from sklearn.model_selection import train_test_split\n",
        "x1_train,x1_test,y1_train,y1_test=train_test_split(x_train,y_train,test_size=0.2,random_state=5)"
      ],
      "metadata": {
        "id": "PbffGCucOq8O"
      },
      "execution_count": null,
      "outputs": []
    },
    {
      "cell_type": "code",
      "source": [
        "from sklearn.linear_model import LogisticRegression\n",
        "cls=LogisticRegression()"
      ],
      "metadata": {
        "id": "ogntz1B_OrAM"
      },
      "execution_count": null,
      "outputs": []
    },
    {
      "cell_type": "code",
      "source": [
        "cls.fit(x1_train,y1_train)"
      ],
      "metadata": {
        "id": "OHbAuyjqOrGv"
      },
      "execution_count": null,
      "outputs": []
    },
    {
      "cell_type": "code",
      "source": [
        "pred_train=cls.predict(x1_train)\n",
        "pred_test=cls.predict(x1_test)"
      ],
      "metadata": {
        "id": "Hn0uixnfOrSy"
      },
      "execution_count": null,
      "outputs": []
    },
    {
      "cell_type": "code",
      "source": [
        "from sklearn.metrics import accuracy_score\n",
        "train_acc=accuracy_score(y1_train,pred_train)\n",
        "test_acc=accuracy_score(y1_test,pred_test)"
      ],
      "metadata": {
        "id": "V229PADQOrdp"
      },
      "execution_count": null,
      "outputs": []
    },
    {
      "cell_type": "code",
      "source": [
        "train_acc"
      ],
      "metadata": {
        "id": "krEFzwOn9WeY"
      },
      "execution_count": null,
      "outputs": []
    },
    {
      "cell_type": "code",
      "source": [
        "test_acc"
      ],
      "metadata": {
        "id": "enP1wO9S9Wpg"
      },
      "execution_count": null,
      "outputs": []
    },
    {
      "cell_type": "markdown",
      "source": [
        "#classification Algorithm"
      ],
      "metadata": {
        "id": "PJcwLCucR75T"
      }
    },
    {
      "cell_type": "code",
      "source": [
        "from sklearn.neighbors import KNeighborsClassifier\n",
        "from sklearn.tree import DecisionTreeClassifier\n",
        "from sklearn.ensemble import RandomForestClassifier, GradientBoostingClassifier\n",
        "from sklearn.svm import SVC\n",
        "from sklearn.metrics import accuracy_score, confusion_matrix, classification_report, roc_auc_score, roc_curve"
      ],
      "metadata": {
        "id": "E3-Z-kwOQ80h"
      },
      "execution_count": null,
      "outputs": []
    },
    {
      "cell_type": "code",
      "source": [
        "from sklearn.model_selection import train_test_split\n",
        "from sklearn.preprocessing import StandardScaler\n",
        "from sklearn.linear_model import LogisticRegression"
      ],
      "metadata": {
        "id": "Rx1AtnkLQ_sQ"
      },
      "execution_count": null,
      "outputs": []
    },
    {
      "cell_type": "code",
      "source": [
        "from sklearn.model_selection import train_test_split\n",
        "x1_train,x1_test,y1_train,y1_test=train_test_split(x_train,y_train,test_size=0.2,random_state=5)"
      ],
      "metadata": {
        "id": "HyV9kWadRDzC"
      },
      "execution_count": null,
      "outputs": []
    },
    {
      "cell_type": "code",
      "source": [
        "x1_train.shape\n",
        "y_train.shape\n",
        "x1_test.shape\n",
        "y1_test.shape"
      ],
      "metadata": {
        "id": "SpWay48TRHHC"
      },
      "execution_count": null,
      "outputs": []
    },
    {
      "source": [
        "# Scale features\n",
        "scaler = StandardScaler()\n",
        "X_train = scaler.fit_transform(x1_train)\n",
        "X_test = scaler.transform(x1_test) # Changed y1_test to x1_test"
      ],
      "cell_type": "code",
      "metadata": {
        "id": "V3XjwQy4TTU1"
      },
      "execution_count": null,
      "outputs": []
    },
    {
      "cell_type": "code",
      "source": [
        "from sklearn.neighbors import KNeighborsClassifier\n",
        "from sklearn.tree import DecisionTreeClassifier\n",
        "from sklearn.ensemble import RandomForestClassifier, GradientBoostingClassifier\n",
        "from sklearn.svm import SVC\n",
        "from sklearn.metrics import accuracy_score, confusion_matrix, classification_report, roc_auc_score, roc_curve"
      ],
      "metadata": {
        "id": "wTKrUhFvRNjj"
      },
      "execution_count": null,
      "outputs": []
    },
    {
      "cell_type": "code",
      "source": [
        "# Step 3: Apply Classification Algorithms\n",
        "# Define models\n",
        "models = {\n",
        "    \"Logistic Regression\": LogisticRegression(),\n",
        "    \"K-Nearest Neighbors\": KNeighborsClassifier(),\n",
        "    \"Decision Tree\": DecisionTreeClassifier(),\n",
        "    \"Random Forest\": RandomForestClassifier(),\n",
        "    \"Gradient Boosting\": GradientBoostingClassifier(),\n",
        "    \"Support Vector Machine\": SVC(probability=True)\n",
        "}"
      ],
      "metadata": {
        "id": "APlnkqORRh5U"
      },
      "execution_count": null,
      "outputs": []
    },
    {
      "source": [
        "# Train and evaluate models\n",
        "results = {}\n",
        "for name, model in models.items():\n",
        "    model.fit(X_train, y1_train)  # Changed Y_train to y1_train\n",
        "    y_pred = model.predict(X_test)\n",
        "    acc = accuracy_score(y1_test, y_pred)  # Changed Y_test to y1_test\n",
        "    results[name] = acc\n",
        "    print(f\"{name} Accuracy: {acc:.4f}\")\n",
        "    print(classification_report(y1_test, y_pred))  # Changed Y_test to y1_test"
      ],
      "cell_type": "code",
      "metadata": {
        "id": "Oaqf3gPKTgmW"
      },
      "execution_count": null,
      "outputs": []
    },
    {
      "cell_type": "code",
      "source": [
        "# Step 4: ROC Curve for the best-performing model\n",
        "best_model_name = max(results, key=results.get)\n",
        "best_model = models[best_model_name]\n",
        "y_proba = best_model.predict_proba(X_test)[:, 1]"
      ],
      "metadata": {
        "id": "LVab3WKtQ9G7"
      },
      "execution_count": null,
      "outputs": []
    },
    {
      "source": [
        "fpr, tpr, thresholds = roc_curve(y1_test, y_proba) # Changed Y_test to y1_test\n",
        "roc_auc = roc_auc_score(y1_test, y_proba) # Changed Y_test to y1_test"
      ],
      "cell_type": "code",
      "metadata": {
        "id": "3o2dFi7dT4CP"
      },
      "execution_count": null,
      "outputs": []
    },
    {
      "cell_type": "code",
      "source": [
        "plt.figure(figsize=(10, 6))\n",
        "plt.plot(fpr, tpr, label=f'{best_model_name} (AUC = {roc_auc:.4f})')\n",
        "plt.plot([0, 1], [0, 1], linestyle='--', color='gray')\n",
        "plt.title('ROC Curve')\n",
        "plt.xlabel('False Positive Rate')\n",
        "plt.ylabel('True Positive Rate')\n",
        "plt.legend()\n",
        "plt.show()"
      ],
      "metadata": {
        "id": "su5yZyb6Q9WD"
      },
      "execution_count": null,
      "outputs": []
    },
    {
      "cell_type": "code",
      "source": [
        "# Step 5: Display Summary Results\n",
        "print(\"\\nModel Accuracy Comparison:\")\n",
        "for model_name, accuracy in results.items():\n",
        "    print(f\"{model_name}: {accuracy:.4f}\")"
      ],
      "metadata": {
        "id": "R87TXTLtT-yd"
      },
      "execution_count": null,
      "outputs": []
    },
    {
      "cell_type": "code",
      "source": [],
      "metadata": {
        "id": "dHI1VB4YUIsU"
      },
      "execution_count": null,
      "outputs": []
    }
  ]
}